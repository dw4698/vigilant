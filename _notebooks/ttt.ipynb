{
 "cells": [
  {
   "cell_type": "markdown",
   "id": "9c7bcbfb-0332-4f2f-a351-18b7b662bf1b",
   "metadata": {},
   "source": [
    "# \"찐막테스트\"\n",
    "> \"순환신경망\"\n",
    "\n",
    "- toc:true\n",
    "- branch: master\n",
    "- badges: true\n",
    "- comments: true\n",
    "- author: eo.dnjs\n",
    "- categories: [python, jupyter]"
   ]
  }
 ],
 "metadata": {
  "kernelspec": {
   "display_name": "Python 3 (ipykernel)",
   "language": "python",
   "name": "python3"
  },
  "language_info": {
   "codemirror_mode": {
    "name": "ipython",
    "version": 3
   },
   "file_extension": ".py",
   "mimetype": "text/x-python",
   "name": "python",
   "nbconvert_exporter": "python",
   "pygments_lexer": "ipython3",
   "version": "3.9.13"
  }
 },
 "nbformat": 4,
 "nbformat_minor": 5
}
